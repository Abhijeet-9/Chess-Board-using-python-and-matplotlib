{
 "cells": [
  {
   "cell_type": "markdown",
   "id": "b4873885",
   "metadata": {},
   "source": [
    "Craeted Chess Board using python and matplot"
   ]
  },
  {
   "cell_type": "code",
   "execution_count": 8,
   "id": "87184807",
   "metadata": {},
   "outputs": [],
   "source": [
    "# import matlpot and numpy libraries\n",
    "import matplotlib.pyplot as plt\n",
    "import numpy as np\n",
    "from matplotlib.colors import ListedColormap"
   ]
  },
  {
   "cell_type": "code",
   "execution_count": 9,
   "id": "6edc61bb",
   "metadata": {},
   "outputs": [],
   "source": [
    "board = np.tile([1, 0], (8, 4))"
   ]
  },
  {
   "cell_type": "code",
   "execution_count": 10,
   "id": "9cc9cfb3",
   "metadata": {},
   "outputs": [],
   "source": [
    "for i in range(board.shape[0]):\n",
    "    board[i] = np.roll(board[i], i%2)"
   ]
  },
  {
   "cell_type": "code",
   "execution_count": 11,
   "id": "0890e1bb",
   "metadata": {},
   "outputs": [],
   "source": [
    "cmap = ListedColormap(['#779556', '#ebecd0'])"
   ]
  },
  {
   "cell_type": "code",
   "execution_count": 12,
   "id": "0fa8736a",
   "metadata": {},
   "outputs": [
    {
     "data": {
      "image/png": "[encoded data removed]",
      "text/plain": [
       "<Figure size 288x288 with 1 Axes>"
      ]
     },
     "metadata": {},
     "output_type": "display_data"
    }
   ],
   "source": [
    "plt.matshow(board, cmap=cmap)\n",
    "plt.xticks([])\n",
    "plt.yticks([])\n",
    "plt.show()"
   ]
  },
  {
   "cell_type": "code",
   "execution_count": null,
   "id": "28c855d0",
   "metadata": {},
   "outputs": [],
   "source": []
  },
  {
   "cell_type": "code",
   "execution_count": null,
   "id": "5e1fa2bd",
   "metadata": {},
   "outputs": [],
   "source": []
  }
 ],
 "metadata": {
  "kernelspec": {
   "display_name": "Python 3",
   "language": "python",
   "name": "python3"
  },
  "language_info": {
   "codemirror_mode": {
    "name": "ipython",
    "version": 3
   },
   "file_extension": ".py",
   "mimetype": "text/x-python",
   "name": "python",
   "nbconvert_exporter": "python",
   "pygments_lexer": "ipython3",
   "version": "3.8.8"
  }
 },
 "nbformat": 4,
 "nbformat_minor": 5
}
